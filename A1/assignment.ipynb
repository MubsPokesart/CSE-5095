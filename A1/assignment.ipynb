{
 "cells": [
  {
   "cell_type": "markdown",
   "metadata": {},
   "source": [
    "# **CSE 5095: Social Media Mining and Analysis**\n",
    "Fall 2024, Assignment #1, 200 points\n",
    "\n",
    "\n",
    "In this assignment, we will explore the statistical properties of the quantitative features associated with each subreddit in your data set. Each data set has observations from two subreddits. In some data sets, each observation is a post, whereas for the other data sets each observation is a compilation of comments for each unique post.\n"
   ]
  },
  {
   "cell_type": "code",
   "execution_count": 2,
   "metadata": {},
   "outputs": [],
   "source": [
    "import praw\n",
    "import numpy as np\n",
    "import pandas as pd\n",
    "import matplotlib.pyplot as plt\n",
    "from datetime import datetime"
   ]
  },
  {
   "cell_type": "code",
   "execution_count": null,
   "metadata": {},
   "outputs": [],
   "source": [
    "# Fetch Functionality of the Python API Wrapper.\n",
    "# Documentation: https://praw.readthedocs.io/en/stable/\n",
    "\n",
    "def fetch_reddit_data(subreddit_names, post_limit=1000):\n",
    "    reddit = praw.Reddit(client_id='YOUR_CLIENT_ID',\n",
    "                         client_secret='YOUR_CLIENT_SECRET',\n",
    "                         user_agent='YOUR_USER_AGENT')\n",
    "    \n",
    "    all_posts = []\n",
    "    \n",
    "    for subreddit_name in subreddit_names:\n",
    "        subreddit = reddit.subreddit(subreddit_name)\n",
    "        for post in subreddit.new(limit=post_limit):\n",
    "            post_data = {\n",
    "                'subreddit': subreddit_name,\n",
    "                'post_id': post.id,\n",
    "                'post_score': post.score,\n",
    "                'post_self_text': post.selftext,\n",
    "                'post_title': post.title,\n",
    "                'post_upvote_ratio': post.upvote_ratio,\n",
    "                'post_thumbs_ups': post.ups,\n",
    "                'post_total_awards_received': post.total_awards_received,\n",
    "                'post_created_time': datetime.fromtimestamp(post.created_utc),\n",
    "                'label': 'action' if subreddit_name in ['climateoffensive', 'climateactionplan'] else 'science'\n",
    "            }\n",
    "            all_posts.append(post_data)\n",
    "    \n",
    "    return pd.DataFrame(all_posts)"
   ]
  },
  {
   "cell_type": "code",
   "execution_count": null,
   "metadata": {},
   "outputs": [],
   "source": [
    "subreddits = ['climate', 'climateoffensive', 'climateactionplan']\n",
    "df = fetch_reddit_data(subreddits)\n",
    "\n",
    "df.to_csv('reddit_climate_posts.csv', index=False)"
   ]
  }
 ],
 "metadata": {
  "kernelspec": {
   "display_name": "Python 3",
   "language": "python",
   "name": "python3"
  },
  "language_info": {
   "codemirror_mode": {
    "name": "ipython",
    "version": 3
   },
   "file_extension": ".py",
   "mimetype": "text/x-python",
   "name": "python",
   "nbconvert_exporter": "python",
   "pygments_lexer": "ipython3",
   "version": "3.12.6"
  }
 },
 "nbformat": 4,
 "nbformat_minor": 2
}
