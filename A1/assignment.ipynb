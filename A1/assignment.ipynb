{
 "cells": [
  {
   "cell_type": "markdown",
   "metadata": {},
   "source": [
    "# **CSE 5095: Social Media Mining and Analysis**\n",
    "Fall 2024, Assignment #1, 200 points\n",
    "\n",
    "\n",
    "In this assignment, we will explore the statistical properties of the quantitative features associated with each subreddit in your data set. Each data set has observations from two subreddits. In some data sets, each observation is a post, whereas for the other data sets each observation is a compilation of comments for each unique post.\n"
   ]
  },
  {
   "cell_type": "code",
   "execution_count": 1,
   "metadata": {},
   "outputs": [],
   "source": [
    "import os\n",
    "import pandas as pd\n",
    "import numpy as np\n",
    "import matplotlib.pyplot as plt"
   ]
  },
  {
   "cell_type": "code",
   "execution_count": 2,
   "metadata": {},
   "outputs": [],
   "source": [
    "from sklearn.model_selection import train_test_split\n",
    "from sklearn.feature_extraction.text import TfidfVectorizer\n",
    "from sklearn.preprocessing import StandardScaler\n",
    "from sklearn.impute import SimpleImputer\n",
    "from imblearn.over_sampling import SMOTE"
   ]
  },
  {
   "cell_type": "code",
   "execution_count": 4,
   "metadata": {},
   "outputs": [
    {
     "name": "stdout",
     "output_type": "stream",
     "text": [
      "Statistic                        mean      variance       mean      variance\n",
      "Subreddit                      action        action    science       science\n",
      "Feature                                                                     \n",
      "post_score                      94.45  1.750466e+04     180.31  1.177669e+05\n",
      "post_thumbs_ups                 94.45  1.750466e+04     180.31  1.177669e+05\n",
      "post_total_awards_received       0.00  0.000000e+00       0.00  0.000000e+00\n",
      "post_upvote_ratio                0.93  1.000000e-02       0.93  1.000000e-02\n",
      "user_awardee_karma            2089.47  5.427181e+07    1944.27  3.774821e+07\n",
      "user_awarder_karma             575.29  9.556991e+06     605.58  5.119978e+06\n",
      "user_comment_karma           77849.73  6.208256e+10   66500.80  1.322043e+10\n",
      "user_link_karma              47975.48  4.181358e+10   90178.09  1.244889e+11\n",
      "user_total_karma            128489.97  1.787689e+11  159228.75  1.764452e+11\n"
     ]
    },
    {
     "name": "stderr",
     "output_type": "stream",
     "text": [
      "C:\\Users\\oshom\\AppData\\Local\\Temp\\ipykernel_28548\\3565817558.py:20: DeprecationWarning: DataFrameGroupBy.apply operated on the grouping columns. This behavior is deprecated, and in a future version of pandas the grouping columns will be excluded from the operation. Either pass `include_groups=False` to exclude the groupings or explicitly select the grouping columns after groupby to silence this warning.\n",
      "  stats = df.groupby('subreddit').apply(calc_stats).reset_index()\n"
     ]
    }
   ],
   "source": [
    "def calc_stats(group):\n",
    "    return pd.DataFrame({\n",
    "        'mean': group[features].mean(),\n",
    "        'variance': group[features].var()\n",
    "    })\n",
    "\n",
    "\n",
    "df = pd.read_csv('project10.csv')\n",
    "\n",
    "post_features = ['post_score', 'post_upvote_ratio', 'post_thumbs_ups', 'post_total_awards_received']\n",
    "comment_features = ['score', 'controversiality', 'ups', 'downs']\n",
    "user_features = ['user_awardee_karma', 'user_awarder_karma', 'user_link_karma', 'user_comment_karma', 'user_total_karma']\n",
    "\n",
    "is_post_level = all(feature in df.columns for feature in post_features)\n",
    "\n",
    "if is_post_level:\n",
    "    features = post_features + user_features\n",
    "else:\n",
    "    features = comment_features + user_features\n",
    "\n",
    "stats = df.groupby('subreddit').apply(calc_stats).reset_index()\n",
    "stats = stats.pivot(index='level_1', columns='subreddit', values=['mean', 'variance'])\n",
    "\n",
    "subreddits = stats.columns.get_level_values(1).unique()\n",
    "new_order = [(stat, subreddit) for subreddit in subreddits for stat in ['mean', 'variance']]\n",
    "stats = stats.reindex(columns=new_order)\n",
    "\n",
    "stats = stats.round(2)\n",
    "stats.index.name = 'Feature'\n",
    "stats.columns.names = ['Statistic', 'Subreddit']\n",
    "\n",
    "print(stats.to_string())\n",
    "\n",
    "stats.to_csv('subreddit_statistics.csv')"
   ]
  }
 ],
 "metadata": {
  "kernelspec": {
   "display_name": "Python 3",
   "language": "python",
   "name": "python3"
  },
  "language_info": {
   "codemirror_mode": {
    "name": "ipython",
    "version": 3
   },
   "file_extension": ".py",
   "mimetype": "text/x-python",
   "name": "python",
   "nbconvert_exporter": "python",
   "pygments_lexer": "ipython3",
   "version": "3.12.6"
  }
 },
 "nbformat": 4,
 "nbformat_minor": 2
}
